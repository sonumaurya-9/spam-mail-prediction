{
 "cells": [
  {
   "cell_type": "code",
   "execution_count": 2,
   "id": "3cb4a977",
   "metadata": {},
   "outputs": [],
   "source": [
    "import numpy as np\n",
    "import pandas as pd\n",
    "from sklearn.model_selection import train_test_split\n",
    "from sklearn.feature_extraction.text import TfidfVectorizer\n",
    "from sklearn.svm import LinearSVC\n",
    "from sklearn.metrics import accuracy_score\n"
   ]
  },
  {
   "cell_type": "code",
   "execution_count": 50,
   "id": "71f9a0f4",
   "metadata": {},
   "outputs": [],
   "source": [
    "#data=pd.read_csv('spam.csv')\n",
    "\n",
    "data=pd.read_csv('spam_ham_dataset.csv')"
   ]
  },
  {
   "cell_type": "code",
   "execution_count": 52,
   "id": "70243298",
   "metadata": {},
   "outputs": [],
   "source": [
    "del data['Unnamed: 0']\n",
    "del data['label_num']"
   ]
  },
  {
   "cell_type": "code",
   "execution_count": 53,
   "id": "c7a6964d",
   "metadata": {},
   "outputs": [],
   "source": [
    "data.columns=['Category','Message']"
   ]
  },
  {
   "cell_type": "code",
   "execution_count": 54,
   "id": "8389ade5",
   "metadata": {},
   "outputs": [
    {
     "name": "stdout",
     "output_type": "stream",
     "text": [
      "  Category                                            Message\n",
      "0      ham  Subject: enron methanol ; meter # : 988291\\r\\n...\n",
      "1      ham  Subject: hpl nom for january 9 , 2001\\r\\n( see...\n",
      "2      ham  Subject: neon retreat\\r\\nho ho ho , we ' re ar...\n",
      "3     spam  Subject: photoshop , windows , office . cheap ...\n",
      "4      ham  Subject: re : indian springs\\r\\nthis deal is t...\n"
     ]
    }
   ],
   "source": [
    "print(data.head())"
   ]
  },
  {
   "cell_type": "code",
   "execution_count": 88,
   "id": "1224f98c",
   "metadata": {},
   "outputs": [],
   "source": [
    "del data['Unnamed: 4']\n",
    "del data['Unnamed: 3']\n",
    "del data['Unnamed: 2']"
   ]
  },
  {
   "cell_type": "code",
   "execution_count": 89,
   "id": "aac19f80",
   "metadata": {},
   "outputs": [],
   "source": [
    "data.columns=['Category','Message']"
   ]
  },
  {
   "cell_type": "code",
   "execution_count": 30,
   "id": "922d61dd",
   "metadata": {},
   "outputs": [
    {
     "name": "stdout",
     "output_type": "stream",
     "text": [
      "  Category                                            Message\n",
      "0      ham  Subject: enron methanol ; meter # : 988291\\r\\n...\n",
      "1      ham  Subject: hpl nom for january 9 , 2001\\r\\n( see...\n",
      "2      ham  Subject: neon retreat\\r\\nho ho ho , we ' re ar...\n",
      "3     spam  Subject: photoshop , windows , office . cheap ...\n",
      "4      ham  Subject: re : indian springs\\r\\nthis deal is t...\n"
     ]
    }
   ],
   "source": [
    "mail_data=data.where((pd.notnull(data)),'')\n",
    "print(mail_data.head())"
   ]
  },
  {
   "cell_type": "code",
   "execution_count": 31,
   "id": "e149c2fb",
   "metadata": {},
   "outputs": [],
   "source": [
    "mail_data.loc[mail_data['Category']=='spam','Category']=0"
   ]
  },
  {
   "cell_type": "code",
   "execution_count": 32,
   "id": "230f6c02",
   "metadata": {},
   "outputs": [
    {
     "name": "stdout",
     "output_type": "stream",
     "text": [
      "  Category                                            Message\n",
      "0      ham  Subject: enron methanol ; meter # : 988291\\r\\n...\n",
      "1      ham  Subject: hpl nom for january 9 , 2001\\r\\n( see...\n",
      "2      ham  Subject: neon retreat\\r\\nho ho ho , we ' re ar...\n",
      "3        0  Subject: photoshop , windows , office . cheap ...\n",
      "4      ham  Subject: re : indian springs\\r\\nthis deal is t...\n"
     ]
    }
   ],
   "source": [
    "print(mail_data.head())"
   ]
  },
  {
   "cell_type": "code",
   "execution_count": 33,
   "id": "f8f323ce",
   "metadata": {},
   "outputs": [],
   "source": [
    "mail_data.loc[mail_data['Category']=='ham','Category']=1"
   ]
  },
  {
   "cell_type": "code",
   "execution_count": 34,
   "id": "e4369bc2",
   "metadata": {},
   "outputs": [
    {
     "name": "stdout",
     "output_type": "stream",
     "text": [
      "     Category                                            Message\n",
      "0           1  Subject: enron methanol ; meter # : 988291\\r\\n...\n",
      "1           1  Subject: hpl nom for january 9 , 2001\\r\\n( see...\n",
      "2           1  Subject: neon retreat\\r\\nho ho ho , we ' re ar...\n",
      "3           0  Subject: photoshop , windows , office . cheap ...\n",
      "4           1  Subject: re : indian springs\\r\\nthis deal is t...\n",
      "...       ...                                                ...\n",
      "5166        1  Subject: put the 10 on the ft\\r\\nthe transport...\n",
      "5167        1  Subject: 3 / 4 / 2000 and following noms\\r\\nhp...\n",
      "5168        1  Subject: calpine daily gas nomination\\r\\n>\\r\\n...\n",
      "5169        1  Subject: industrial worksheets for august 2000...\n",
      "5170        0  Subject: important online banking alert\\r\\ndea...\n",
      "\n",
      "[5171 rows x 2 columns]\n"
     ]
    }
   ],
   "source": [
    "print(mail_data)"
   ]
  },
  {
   "cell_type": "code",
   "execution_count": 35,
   "id": "8b069731",
   "metadata": {},
   "outputs": [],
   "source": [
    "x=mail_data['Message']\n",
    "y=mail_data['Category']"
   ]
  },
  {
   "cell_type": "code",
   "execution_count": 36,
   "id": "672d9b33",
   "metadata": {},
   "outputs": [],
   "source": [
    "x_train,x_test,y_train,y_test=train_test_split(x,y,train_size=0.8,test_size=0.2,random_state=3)"
   ]
  },
  {
   "cell_type": "code",
   "execution_count": 37,
   "id": "de590f3e",
   "metadata": {},
   "outputs": [],
   "source": [
    "feature_extration=TfidfVectorizer(min_df=1,stop_words='english',lowercase='True')\n",
    "x_train_feature=feature_extration.fit_transform(x_train)\n",
    "x_test_feature=feature_extration.transform(x_test)\n",
    "\n",
    "y_train=y_train.astype('int')\n",
    "y_test=y_test.astype('int')"
   ]
  },
  {
   "cell_type": "code",
   "execution_count": 38,
   "id": "1a7da493",
   "metadata": {},
   "outputs": [
    {
     "data": {
      "text/plain": [
       "LinearSVC()"
      ]
     },
     "execution_count": 38,
     "metadata": {},
     "output_type": "execute_result"
    }
   ],
   "source": [
    "model=LinearSVC()\n",
    "model.fit(x_train_feature,y_train)"
   ]
  },
  {
   "cell_type": "code",
   "execution_count": 39,
   "id": "5c77c9c3",
   "metadata": {},
   "outputs": [
    {
     "name": "stdout",
     "output_type": "stream",
     "text": [
      "1.0\n"
     ]
    }
   ],
   "source": [
    "pred_on_training=model.predict(x_train_feature)\n",
    "accuracy=accuracy_score(y_train,pred_on_training)\n",
    "print(accuracy)"
   ]
  },
  {
   "cell_type": "code",
   "execution_count": 40,
   "id": "4728af70",
   "metadata": {},
   "outputs": [
    {
     "name": "stdout",
     "output_type": "stream",
     "text": [
      "0.9864734299516909\n"
     ]
    }
   ],
   "source": [
    "pred_on_testing=model.predict(x_test_feature)\n",
    "accuracy=accuracy_score(y_test,pred_on_testing)\n",
    "print(accuracy)"
   ]
  },
  {
   "cell_type": "code",
   "execution_count": 47,
   "id": "7ac5d9da",
   "metadata": {},
   "outputs": [
    {
     "name": "stdout",
     "output_type": "stream",
     "text": [
      "[0]\n"
     ]
    }
   ],
   "source": [
    "input_data=[\"\"\"Ok lar... Joking wif u oni...\"\"\"]\n",
    "data=feature_extration.transform(input_data)\n",
    "pred=model.predict(data)\n",
    "print(pred)"
   ]
  },
  {
   "cell_type": "code",
   "execution_count": 59,
   "id": "921f0c4c",
   "metadata": {},
   "outputs": [
    {
     "name": "stdout",
     "output_type": "stream",
     "text": [
      "Accuracy score of training data: 1.0\n",
      "Accuracy score of testing data: 0.9864734299516909\n",
      "It is a spam mail\n"
     ]
    }
   ],
   "source": [
    "import pandas as pd \n",
    "from sklearn.model_selection import train_test_split\n",
    "from sklearn.feature_extraction.text import TfidfVectorizer\n",
    "from sklearn.svm import LinearSVC\n",
    "from sklearn.metrics import accuracy_score\n",
    "\n",
    "data=pd.read_csv('spam_ham_dataset.csv') #importing dataset\n",
    "\n",
    "del data['Unnamed: 0'] # removing columns\n",
    "del data['label_num']\n",
    "\n",
    "data.columns=['Category','Message'] #rename the  columns \n",
    "\n",
    "mail_data=data.where((pd.notnull(data)),'') # notnull is replace with empty string\n",
    "#print(mail_data.head())\n",
    "\n",
    "mail_data.loc[mail_data['Category']=='spam','Category']=0 # In category column spam is assign with 0\n",
    "#print(mail_data.head())\n",
    "mail_data.loc[mail_data['Category']=='ham','Category']=1 # In category column ham is assign with 1\n",
    "#print(mail_data)\n",
    "\n",
    "# separating data \n",
    "x=mail_data['Message']\n",
    "y=mail_data['Category']\n",
    "\n",
    "# spliting data into train and test\n",
    "# 80% is train data and 20% is test data\n",
    "x_train,x_test,y_train,y_test=train_test_split(x,y,train_size=0.8,test_size=0.2,random_state=3)\n",
    "\n",
    "#extrating of data\n",
    "feature_extration=TfidfVectorizer(min_df=1,stop_words='english',lowercase='True')\n",
    "x_train_feature=feature_extration.fit_transform(x_train)\n",
    "x_test_feature=feature_extration.transform(x_test)\n",
    "y_train=y_train.astype('int')\n",
    "y_test=y_test.astype('int')\n",
    "\n",
    "# Classifier\n",
    "model=LinearSVC()\n",
    "\n",
    "# model training\n",
    "model.fit(x_train_feature,y_train)\n",
    "\n",
    "#prediction of training data\n",
    "pred_on_training=model.predict(x_train_feature)\n",
    "\n",
    "#accuracy of training data\n",
    "accuracy=accuracy_score(y_train,pred_on_training)\n",
    "print(\"Accuracy score of training data:\",accuracy)\n",
    "\n",
    "#prediction of testing data\n",
    "pred_on_testing=model.predict(x_test_feature)\n",
    "\n",
    "#accuracy of testing data \n",
    "accuracy=accuracy_score(y_test,pred_on_testing)\n",
    "print(\"Accuracy score of testing data:\",accuracy)\n",
    "\n",
    "# now we have checked model is successfully predicted on given input data\n",
    "input_data=[\"\"\"Ok lar... Joking wif u oni...\"\"\"]\n",
    "data=feature_extration.transform(input_data)\n",
    "pred=model.predict(data)\n",
    "if pred==0:\n",
    "    print(\"It is a spam mail\")\n",
    "else:\n",
    "    print(\"It is a ham mail\")\n",
    "    \n"
   ]
  },
  {
   "cell_type": "code",
   "execution_count": null,
   "id": "157e97e2",
   "metadata": {},
   "outputs": [],
   "source": []
  }
 ],
 "metadata": {
  "kernelspec": {
   "display_name": "Python 3",
   "language": "python",
   "name": "python3"
  },
  "language_info": {
   "codemirror_mode": {
    "name": "ipython",
    "version": 3
   },
   "file_extension": ".py",
   "mimetype": "text/x-python",
   "name": "python",
   "nbconvert_exporter": "python",
   "pygments_lexer": "ipython3",
   "version": "3.8.8"
  }
 },
 "nbformat": 4,
 "nbformat_minor": 5
}
